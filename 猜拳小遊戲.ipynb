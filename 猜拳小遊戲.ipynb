{
 "cells": [
  {
   "cell_type": "code",
   "execution_count": null,
   "metadata": {
    "collapsed": false
   },
   "outputs": [
    {
     "name": "stdout",
     "output_type": "stream",
     "text": [
      "猜拳[請輸入放棄來投降]:布\n",
      "石頭\n",
      "猜拳[請輸入放棄來投降]:剪刀\n",
      "剪刀\n",
      "平局\n"
     ]
    }
   ],
   "source": [
    "import random\n",
    "猜拳=['剪刀','石頭','布']\n",
    "while True:\n",
    "    person=input(\"猜拳[請輸入放棄來投降]:\")\n",
    "    if person=='放棄':\n",
    "        print(\"嫩逼\")\n",
    "        break\n",
    "    elif person in 猜拳:\n",
    "        a=random.choice(猜拳)\n",
    "        print(a)\n",
    "        if person==a:\n",
    "            print(\"平局\")\n",
    "    else:\n",
    "        print(\"你看得懂中文嗎??\")"
   ]
  }
 ],
 "metadata": {
  "kernelspec": {
   "display_name": "Python 3",
   "language": "python",
   "name": "python3"
  },
  "language_info": {
   "codemirror_mode": {
    "name": "ipython",
    "version": 3
   },
   "file_extension": ".py",
   "mimetype": "text/x-python",
   "name": "python",
   "nbconvert_exporter": "python",
   "pygments_lexer": "ipython3",
   "version": "3.4.3"
  }
 },
 "nbformat": 4,
 "nbformat_minor": 0
}
